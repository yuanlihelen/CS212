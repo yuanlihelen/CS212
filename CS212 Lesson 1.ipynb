{
 "cells": [
  {
   "cell_type": "code",
   "execution_count": 1,
   "metadata": {},
   "outputs": [],
   "source": [
    "# def card_ranks(hand):\n",
    "#     \"Return a list of the ranks, sorted with higher first.\"\n",
    "#     ranks = ['--23456789TJQKA'.index(r) for r, s in hand]\n",
    "#     ranks.sort(reverse = True)\n",
    "#     if ranks == [14,5,4,3,2]:\n",
    "#         ranks = [1,2,3,4,5]\n",
    "#     return ranks"
   ]
  },
  {
   "cell_type": "code",
   "execution_count": 8,
   "metadata": {},
   "outputs": [],
   "source": [
    "# def hand_rank(hand):\n",
    "#     \"Return a value indicating the ranking of a hand.\"\n",
    "#     ranks = card_ranks(hand) \n",
    "#     if straight(ranks) and flush(hand):\n",
    "#         return (8, max(ranks))\n",
    "#     elif kind(4, ranks):\n",
    "#         return (7, kind(4, ranks), kind(1, ranks))\n",
    "#     elif kind(3, ranks) and kind(2, ranks):\n",
    "#         return (6, kind(3, ranks), kind(2, ranks))\n",
    "#     elif flush(hand):\n",
    "#         return (5, ranks)\n",
    "#     elif straight(ranks):\n",
    "#         return (4, max(ranks))\n",
    "#     elif kind(3, ranks):\n",
    "#         return (3, kind(3, ranks), ranks)\n",
    "#     elif two_pair(ranks):\n",
    "#         return (2, two_pair(ranks), ranks)\n",
    "#     elif kind(2, ranks):\n",
    "#         return (1, kind(2, ranks), ranks)\n",
    "#     else:\n",
    "#         return (0, ranks)"
   ]
  },
  {
   "cell_type": "code",
   "execution_count": 56,
   "metadata": {},
   "outputs": [],
   "source": [
    "def hand_rank(hand):\n",
    "    \"Return a value indicating the ranking of a hand.\"\n",
    "    groups = group(['--23456789TJQKA'.index(r) for r, s in hand])\n",
    "    counts, ranks = unzip(groups)\n",
    "    if ranks == (14,5,4,3,2):\n",
    "        ranks = (1,2,3,4,5)\n",
    "    straight = (max(ranks)-min(ranks) == 4) and len(set(ranks)) == 5\n",
    "    flush = len(set([s for r,s in hand])) ==1\n",
    "    return (9 if (5,)== counts else\n",
    "           8 if straight and flush else\n",
    "           7 if (4,1) == counts else\n",
    "           6 if (3,2) == counts else\n",
    "           5 if flush else\n",
    "           4 if straight else\n",
    "           3 if (3,1,1) == counts else\n",
    "           2 if (2,2,1) == counts else\n",
    "           1 if (2,1,1,1)== counts else\n",
    "           0), ranks"
   ]
  },
  {
   "cell_type": "code",
   "execution_count": 67,
   "metadata": {},
   "outputs": [],
   "source": [
    "def group(items):\n",
    "    groups = [(items.count(x),x) for x in set(items)]\n",
    "    return sorted(groups, reverse = True)"
   ]
  },
  {
   "cell_type": "code",
   "execution_count": 58,
   "metadata": {},
   "outputs": [],
   "source": [
    "def unzip(pairs): return zip(*pairs)"
   ]
  },
  {
   "cell_type": "code",
   "execution_count": 59,
   "metadata": {},
   "outputs": [],
   "source": [
    "def poker(hands):\n",
    "    \"Return a list of winning hands: poker([hand,...]) => [hand,...]\"\n",
    "    return allmax(hands, key=hand_rank)"
   ]
  },
  {
   "cell_type": "code",
   "execution_count": 31,
   "metadata": {},
   "outputs": [],
   "source": [
    "def allmax(iterable, key=None):\n",
    "    \"Return a list of all items equal to the max of the iterable.\"\n",
    "    # Your code here.\n",
    "    # return i if (i == max(iterable)) for i in iterable\n",
    "    output, maxval = [], 0\n",
    "    key = key or (lambda x: x)\n",
    "    for i in iterable:\n",
    "        val = key(i)\n",
    "        if output==[] or val>maxval:\n",
    "            maxval = val\n",
    "            output.append(i)\n",
    "        elif  val == maxval:\n",
    "            output.append(i)\n",
    "            print (output)\n",
    "    return output"
   ]
  },
  {
   "cell_type": "code",
   "execution_count": 61,
   "metadata": {},
   "outputs": [],
   "source": [
    "def straight(ranks):\n",
    "    \"Return True if the ordered ranks form a 5-card straight.\"\n",
    "    return (max(ranks)-min(ranks) == 4) and len(set(ranks)) == 5"
   ]
  },
  {
   "cell_type": "code",
   "execution_count": 62,
   "metadata": {},
   "outputs": [],
   "source": [
    "def flush(hand):\n",
    "    \"Return True if all the cards have the same suit.\"\n",
    "    # Your code here.\n",
    "    flush = [s for r,s in hand]\n",
    "    return len(set(flush)) ==1"
   ]
  },
  {
   "cell_type": "code",
   "execution_count": 63,
   "metadata": {},
   "outputs": [],
   "source": [
    "def kind(n,ranks):\n",
    "    \"\"\"Return the first rank that this hand has exactly n of.\n",
    "    Return None if there is no n-of-a-kind in the hand.\"\"\"\n",
    "    for r in ranks:\n",
    "        if ranks.count(r)==n : return r\n",
    "    return None"
   ]
  },
  {
   "cell_type": "code",
   "execution_count": 64,
   "metadata": {},
   "outputs": [],
   "source": [
    "def two_pair(ranks):\n",
    "    \"\"\"If there are two pair, return the two ranks as a\n",
    "    tuple: (highest, lowest); otherwise return None.\"\"\"\n",
    "    # Your code here.\n",
    "    for i in ranks:\n",
    "        for q in ranks:\n",
    "            if q != i and ranks.count(i) ==2 and ranks.count(q) ==2: return (max(i,q),min(i,q))\n",
    "    return None"
   ]
  },
  {
   "cell_type": "code",
   "execution_count": 70,
   "metadata": {},
   "outputs": [],
   "source": [
    "import random # this will be a useful library for shuffling\n",
    "\n",
    "# This builds a deck of 52 cards. If you are unfamiliar\n",
    "# with this notation, check out Andy's supplemental video\n",
    "# on list comprehensions (you can find the link in the \n",
    "# Instructor Comments box below).\n",
    "\n",
    "mydeck = [r+s for r in '23456789TJQKA' for s in 'SHDC'] \n",
    "# print mydeck\n",
    "# hands = random.sample(mydeck, k=5)\n",
    "# print hands\n",
    "def deal(numhands, n=5, deck=mydeck):\n",
    "    random.shuffle(deck)\n",
    "    return[deck[n*i : n*(i+1)] for i in range(numhands)]\n",
    "# print(deal(2,7))\n",
    "#     # Your code here.\n",
    "#     output = []\n",
    "#     for i in range(1,numhands+1):\n",
    "#         hands = random.sample(deck, k=n)\n",
    "#         # print hands\n",
    "#         output.append(hands)\n",
    "#         # print output\n",
    "#     return output\n"
   ]
  },
  {
   "cell_type": "code",
   "execution_count": 71,
   "metadata": {},
   "outputs": [
    {
     "name": "stdout",
     "output_type": "stream",
     "text": [
      "[['KD', 'JD', '4S', '8C', '8D'], ['QS', 'JC', 'JS', 'TC', '9S']]\n"
     ]
    }
   ],
   "source": [
    "print(poker(deal(10)))"
   ]
  },
  {
   "cell_type": "code",
   "execution_count": 50,
   "metadata": {},
   "outputs": [],
   "source": [
    "def hand_percentages(n=700*1000):\n",
    "    counts = [0] *9\n",
    "    for i in range(0,int(n/10)):\n",
    "        for hand in deal(10):\n",
    "            ranking = hand_rank(hand)[0]\n",
    "            counts[ranking]+=1\n",
    "    for i in reversed(range(9)):\n",
    "        print (hand_names[i],100.*counts[i]/n) #Error?"
   ]
  },
  {
   "cell_type": "code",
   "execution_count": 51,
   "metadata": {},
   "outputs": [],
   "source": [
    "hand_names = ['Nothing','1 pair','2 pairs','3 of a kind','Straight','Flush','full house','4 of a kind','Straight Flush']"
   ]
  },
  {
   "cell_type": "code",
   "execution_count": 53,
   "metadata": {},
   "outputs": [
    {
     "name": "stdout",
     "output_type": "stream",
     "text": [
      "Straight Flush 0.0\n",
      "4 of a kind 0.04\n",
      "full house 0.11\n",
      "Flush 0.21\n",
      "Straight 0.37\n",
      "3 of a kind 1.76\n",
      "2 pairs 4.7\n",
      "1 pair 42.32\n",
      "Nothing 50.49\n",
      "None\n"
     ]
    }
   ],
   "source": [
    "print(hand_percentages(10000))"
   ]
  },
  {
   "cell_type": "code",
   "execution_count": 85,
   "metadata": {},
   "outputs": [
    {
     "name": "stdout",
     "output_type": "stream",
     "text": [
      "tests pass\n"
     ]
    }
   ],
   "source": [
    "def test():\n",
    "    \"Test cases for the functions in poker program.\"\n",
    "    sf = \"6C 7C 8C 9C TC\".split() # Straight Flush\n",
    "    fk = \"9D 9H 9S 9C 7D\".split() # Four of a Kind\n",
    "    fh = \"TD TC TH 7C 7D\".split() # Full House\n",
    "    tp = \"5S 5D 9H 9C 6S\".split() # Two pairs\n",
    "    fkranks = card_ranks(fk)\n",
    "    tpranks = card_ranks(tp)\n",
    "    assert kind(4, fkranks) == 9\n",
    "    assert kind(3, fkranks) == None\n",
    "    assert kind(2, fkranks) == None\n",
    "    assert kind(1, fkranks) == 7\n",
    "#     assert hand_rank(fh) ==(6,)\n",
    "    return 'tests pass'\n",
    "print(test())\n",
    "# print(hand_rank(fkranks))"
   ]
  },
  {
   "cell_type": "code",
   "execution_count": 82,
   "metadata": {},
   "outputs": [
    {
     "name": "stdout",
     "output_type": "stream",
     "text": [
      "(6, (10, 7))\n"
     ]
    }
   ],
   "source": [
    "sf = \"6C 7C 8C 9C TC\".split() # Straight Flush\n",
    "fk = \"9D 9H 9S 9C 7D\".split() # Four of a Kind\n",
    "fh = \"TD TC TH 7C 7D\".split() # Full House\n",
    "tp = \"5S 5D 9H 9C 6S\".split() # Two pairs\n",
    "fkranks = card_ranks(fk)\n",
    "tpranks = card_ranks(tp)\n",
    "print (hand_rank(fh))"
   ]
  },
  {
   "cell_type": "code",
   "execution_count": 9,
   "metadata": {},
   "outputs": [
    {
     "name": "stdout",
     "output_type": "stream",
     "text": [
      "['Gundega is the TA for CS373', 'Job is the TA for CS387']\n"
     ]
    }
   ],
   "source": [
    "\"List comprehension\"\n",
    "# User Instructions\n",
    "#\n",
    "# Use a list comprehension to identify all the TAs \n",
    "# Who are teaching a 300 level course (which would\n",
    "# be Gundega and Job). The string.find() function\n",
    "# may be helpful to you.\n",
    "#\n",
    "# Your ta_300 variable should be a list of 2 strings:\n",
    "# ta_300 = ['Gundega is the TA for CS373',\n",
    "#           'Job is the TA for CS387']\n",
    "\n",
    "ta_data = [['Peter', 'USA', 'CS262'],\n",
    "           ['Andy', 'USA', 'CS212'],\n",
    "           ['Sarah', 'England', 'CS101'],\n",
    "           ['Gundega', 'Latvia', 'CS373'],\n",
    "           ['Job', 'USA', 'CS387'],\n",
    "           ['Sean', 'USA', 'CS253']]\n",
    "\n",
    "ta_300 = [(Name +' is the TA for '+ Course) for Name, Country, Course in ta_data if Course.find('3')==2]\n",
    "print (ta_300)"
   ]
  },
  {
   "cell_type": "code",
   "execution_count": 92,
   "metadata": {},
   "outputs": [
    {
     "name": "stdout",
     "output_type": "stream",
     "text": [
      "test_best_hand passes\n"
     ]
    }
   ],
   "source": [
    "\"Homework1-1\"\n",
    "# CS 212, hw1-1: 7-card stud\n",
    "#\n",
    "# -----------------\n",
    "# User Instructions\n",
    "#\n",
    "# Write a function best_hand(hand) that takes a seven\n",
    "# card hand as input and returns the best possible 5\n",
    "# card hand. The itertools library has some functions\n",
    "# that may help you solve this problem.\n",
    "#\n",
    "# -----------------\n",
    "# Grading Notes\n",
    "# \n",
    "# Muliple correct answers will be accepted in cases \n",
    "# where the best hand is ambiguous (for example, if \n",
    "# you have 4 kings and 3 queens, there are three best\n",
    "# hands: 4 kings along with any of the three queens).\n",
    "\n",
    "import itertools\n",
    "def best_hand(hand):\n",
    "    \"From a 7-card hand, return the best 5 card hand.\"\n",
    "    return max(itertools.combinations(hand,5),key = hand_rank)\n",
    "    \n",
    "# ------------------\n",
    "# Provided Functions\n",
    "# \n",
    "# You may want to use some of the functions which\n",
    "# you have already defined in the unit to write \n",
    "# your best_hand function.\n",
    "\n",
    "def hand_rank(hand):\n",
    "    \"Return a value indicating the ranking of a hand.\"\n",
    "    ranks = card_ranks(hand) \n",
    "    if straight(ranks) and flush(hand):\n",
    "        return (8, max(ranks))\n",
    "    elif kind(4, ranks):\n",
    "        return (7, kind(4, ranks), kind(1, ranks))\n",
    "    elif kind(3, ranks) and kind(2, ranks):\n",
    "        return (6, kind(3, ranks), kind(2, ranks))\n",
    "    elif flush(hand):\n",
    "        return (5, ranks)\n",
    "    elif straight(ranks):\n",
    "        return (4, max(ranks))\n",
    "    elif kind(3, ranks):\n",
    "        return (3, kind(3, ranks), ranks)\n",
    "    elif two_pair(ranks):\n",
    "        return (2, two_pair(ranks), ranks)\n",
    "    elif kind(2, ranks):\n",
    "        return (1, kind(2, ranks), ranks)\n",
    "    else:\n",
    "        return (0, ranks)\n",
    "    \n",
    "def card_ranks(hand):\n",
    "    \"Return a list of the ranks, sorted with higher first.\"\n",
    "    ranks = ['--23456789TJQKA'.index(r) for r, s in hand]\n",
    "    ranks.sort(reverse = True)\n",
    "    return [5, 4, 3, 2, 1] if (ranks == [14, 5, 4, 3, 2]) else ranks\n",
    "\n",
    "def flush(hand):\n",
    "    \"Return True if all the cards have the same suit.\"\n",
    "    suits = [s for r,s in hand]\n",
    "    return len(set(suits)) == 1\n",
    "\n",
    "def straight(ranks):\n",
    "    \"\"\"Return True if the ordered \n",
    "    ranks form a 5-card straight.\"\"\"\n",
    "    return (max(ranks)-min(ranks) == 4) and len(set(ranks)) == 5\n",
    "\n",
    "def kind(n, ranks):\n",
    "    \"\"\"Return the first rank that this hand has \n",
    "    exactly n-of-a-kind of. Return None if there \n",
    "    is no n-of-a-kind in the hand.\"\"\"\n",
    "    for r in ranks:\n",
    "        if ranks.count(r) == n: return r\n",
    "    return None\n",
    "\n",
    "def two_pair(ranks):\n",
    "    \"\"\"If there are two pair here, return the two \n",
    "    ranks of the two pairs, else None.\"\"\"\n",
    "    pair = kind(2, ranks)\n",
    "    lowpair = kind(2, list(reversed(ranks)))\n",
    "    if pair and lowpair != pair:\n",
    "        return (pair, lowpair)\n",
    "    else:\n",
    "        return None \n",
    "    \n",
    "def test_best_hand():\n",
    "    assert (sorted(best_hand(\"6C 7C 8C 9C TC 5C JS\".split()))\n",
    "            == ['6C', '7C', '8C', '9C', 'TC'])\n",
    "    assert (sorted(best_hand(\"TD TC TH 7C 7D 8C 8S\".split()))\n",
    "            == ['8C', '8S', 'TC', 'TD', 'TH'])\n",
    "    assert (sorted(best_hand(\"JD TC TH 7C 7D 7S 7H\".split()))\n",
    "            == ['7C', '7D', '7H', '7S', 'JD'])\n",
    "    return 'test_best_hand passes'\n",
    "\n",
    "print (test_best_hand())"
   ]
  },
  {
   "cell_type": "code",
   "execution_count": 93,
   "metadata": {},
   "outputs": [],
   "source": [
    "import itertools\n",
    "def best_hand(hand):\n",
    "    \"From a 7-card hand, return the best 5 card hand.\"\n",
    "    return max(itertools.combinations(hand,5),key = hand_rank)"
   ]
  },
  {
   "cell_type": "code",
   "execution_count": 94,
   "metadata": {},
   "outputs": [
    {
     "name": "stdout",
     "output_type": "stream",
     "text": [
      "['6C', '7C', '8C', '9C', 'TC']\n",
      "['8C', '8S', 'TC', 'TD', 'TH']\n",
      "['7C', '7D', '7H', '7S', 'JD']\n"
     ]
    }
   ],
   "source": [
    "print(sorted(best_hand(\"6C 7C 8C 9C TC 5C JS\".split())))\n",
    "print(sorted(best_hand(\"TD TC TH 7C 7D 8C 8S\".split())))\n",
    "print(sorted(best_hand(\"JD TC TH 7C 7D 7S 7H\".split())))"
   ]
  },
  {
   "cell_type": "code",
   "execution_count": 192,
   "metadata": {},
   "outputs": [
    {
     "ename": "AssertionError",
     "evalue": "",
     "output_type": "error",
     "traceback": [
      "\u001b[0;31m---------------------------------------------------------------------------\u001b[0m",
      "\u001b[0;31mAssertionError\u001b[0m                            Traceback (most recent call last)",
      "\u001b[0;32m<ipython-input-192-805a3880a283>\u001b[0m in \u001b[0;36m<module>\u001b[0;34m()\u001b[0m\n\u001b[1;32m     49\u001b[0m     \u001b[0;32mreturn\u001b[0m \u001b[0;34m'test_best_wild_hand passes'\u001b[0m\u001b[0;34m\u001b[0m\u001b[0m\n\u001b[1;32m     50\u001b[0m \u001b[0;34m\u001b[0m\u001b[0m\n\u001b[0;32m---> 51\u001b[0;31m \u001b[0mprint\u001b[0m\u001b[0;34m(\u001b[0m\u001b[0mtest_best_wild_hand\u001b[0m\u001b[0;34m(\u001b[0m\u001b[0;34m)\u001b[0m\u001b[0;34m)\u001b[0m\u001b[0;34m\u001b[0m\u001b[0m\n\u001b[0m\u001b[1;32m     52\u001b[0m \u001b[0;31m# ------------------\u001b[0m\u001b[0;34m\u001b[0m\u001b[0;34m\u001b[0m\u001b[0m\n\u001b[1;32m     53\u001b[0m \u001b[0;31m# Provided Functions\u001b[0m\u001b[0;34m\u001b[0m\u001b[0;34m\u001b[0m\u001b[0m\n",
      "\u001b[0;32m<ipython-input-192-805a3880a283>\u001b[0m in \u001b[0;36mtest_best_wild_hand\u001b[0;34m()\u001b[0m\n\u001b[1;32m     44\u001b[0m             == ['7C', '8C', '9C', 'JC', 'TC'])\n\u001b[1;32m     45\u001b[0m     assert (sorted(best_wild_hand(\"TD TC 5H 5C 7C ?R ?B\".split()))\n\u001b[0;32m---> 46\u001b[0;31m             == ['7C', 'TC', 'TD', 'TH', 'TS'])\n\u001b[0m\u001b[1;32m     47\u001b[0m     assert (sorted(best_wild_hand(\"JD TC TH 7C 7D 7S 7H\".split()))\n\u001b[1;32m     48\u001b[0m             == ['7C', '7D', '7H', '7S', 'JD'])\n",
      "\u001b[0;31mAssertionError\u001b[0m: "
     ]
    }
   ],
   "source": [
    "\"CS 212, hw1-2: Jokers Wild\"\n",
    "#\n",
    "# -----------------\n",
    "# User Instructions\n",
    "#\n",
    "# Write a function best_wild_hand(hand) that takes as\n",
    "# input a 7-card hand and returns the best 5 card hand.\n",
    "# In this problem, it is possible for a hand to include\n",
    "# jokers. Jokers will be treated as 'wild cards' which\n",
    "# can take any rank or suit of the same color. The \n",
    "# black joker, '?B', can be used as any spade or club\n",
    "# and the red joker, '?R', can be used as any heart \n",
    "# or diamond.\n",
    "#\n",
    "# The itertools library may be helpful. Feel free to \n",
    "# define multiple functions if it helps you solve the\n",
    "# problem. \n",
    "#\n",
    "# -----------------\n",
    "# Grading Notes\n",
    "# \n",
    "# Muliple correct answers will be accepted in cases \n",
    "# where the best hand is ambiguous (for example, if \n",
    "# you have 4 kings and 3 queens, there are three best\n",
    "# hands: 4 kings along with any of the three queens).\n",
    "\n",
    "import itertools\n",
    "\n",
    "def replacement(hand):\n",
    "    if hand == '?B': return blackcard\n",
    "    elif hand == '?R': return redcard\n",
    "    else:return [hand]\n",
    "\n",
    "def best_wild_hand(hand):\n",
    "    \"Try all values for jokers in all 5-card selections.\"\n",
    "    \n",
    "    # Your code here\n",
    "    hands = set(best_hand(h) for h in itertools.product(*map(replacement,hand)))\n",
    "#     print (hands)\n",
    "    return max(hands, key = hand_rank)\n",
    "\n",
    "def test_best_wild_hand():\n",
    "    assert (sorted(best_wild_hand(\"6C 7C 8C 9C TC 5C ?B\".split()))\n",
    "            == ['7C', '8C', '9C', 'JC', 'TC'])\n",
    "    assert (sorted(best_wild_hand(\"TD TC 5H 5C 7C ?R ?B\".split()))\n",
    "            == ['7C', 'TC', 'TD', 'TH', 'TS'])\n",
    "    assert (sorted(best_wild_hand(\"JD TC TH 7C 7D 7S 7H\".split()))\n",
    "            == ['7C', '7D', '7H', '7S', 'JD'])\n",
    "    return 'test_best_wild_hand passes'\n",
    "\n",
    "print(test_best_wild_hand())\n",
    "# ------------------\n",
    "# Provided Functions\n",
    "# \n",
    "# You may want to use some of the functions which\n",
    "# you have already defined in the unit to write \n",
    "# your best_hand function.\n",
    "\n",
    "def hand_rank(hand):\n",
    "    \"Return a value indicating the ranking of a hand.\"\n",
    "    ranks = card_ranks(hand) \n",
    "    if straight(ranks) and flush(hand):\n",
    "        return (8, max(ranks))\n",
    "    elif kind(4, ranks):\n",
    "        return (7, kind(4, ranks), kind(1, ranks))\n",
    "    elif kind(3, ranks) and kind(2, ranks):\n",
    "        return (6, kind(3, ranks), kind(2, ranks))\n",
    "    elif flush(hand):\n",
    "        return (5, ranks)\n",
    "    elif straight(ranks):\n",
    "        return (4, max(ranks))\n",
    "    elif kind(3, ranks):\n",
    "        return (3, kind(3, ranks), ranks)\n",
    "    elif two_pair(ranks):\n",
    "        return (2, two_pair(ranks), ranks)\n",
    "    elif kind(2, ranks):\n",
    "        return (1, kind(2, ranks), ranks)\n",
    "    else:\n",
    "        return (0, ranks)\n",
    "    \n",
    "def card_ranks(hand):\n",
    "    \"Return a list of the ranks, sorted with higher first.\"\n",
    "    ranks = ['--23456789TJQKA'.index(r) for r, s in hand]\n",
    "    ranks.sort(reverse = True)\n",
    "    return [5, 4, 3, 2, 1] if (ranks == [14, 5, 4, 3, 2]) else ranks\n",
    "\n",
    "def flush(hand):\n",
    "    \"Return True if all the cards have the same suit.\"\n",
    "    suits = [s for r,s in hand]\n",
    "    return len(set(suits)) == 1\n",
    "\n",
    "def straight(ranks):\n",
    "    \"\"\"Return True if the ordered \n",
    "    ranks form a 5-card straight.\"\"\"\n",
    "    return (max(ranks)-min(ranks) == 4) and len(set(ranks)) == 5\n",
    "\n",
    "def kind(n, ranks):\n",
    "    \"\"\"Return the first rank that this hand has \n",
    "    exactly n-of-a-kind of. Return None if there \n",
    "    is no n-of-a-kind in the hand.\"\"\"\n",
    "    for r in ranks:\n",
    "        if ranks.count(r) == n: return r\n",
    "    return None\n",
    "\n",
    "def two_pair(ranks):\n",
    "    \"\"\"If there are two pair here, return the two \n",
    "    ranks of the two pairs, else None.\"\"\"\n",
    "    pair = kind(2, ranks)\n",
    "    lowpair = kind(2, list(reversed(ranks)))\n",
    "    if pair and lowpair != pair:\n",
    "        return (pair, lowpair)\n",
    "    else:\n",
    "        return None \n"
   ]
  },
  {
   "cell_type": "code",
   "execution_count": null,
   "metadata": {},
   "outputs": [],
   "source": [
    "import itertools\n",
    "\n",
    "def best_wild_hand(hand):\n",
    "    \"Try all values for jokers in all 5-card selections.\"\n",
    "    \n",
    "    # Your code here\n",
    "\n"
   ]
  },
  {
   "cell_type": "code",
   "execution_count": 193,
   "metadata": {},
   "outputs": [
    {
     "name": "stdout",
     "output_type": "stream",
     "text": [
      "['2H', '2D', '3H', '3D', '4H', '4D', '5H', '5D', '6H', '6D', '7H', '7D', '8H', '8D', '9H', '9D', 'TH', 'TD', 'JH', 'JD', 'QH', 'QD', 'KH', 'KD', 'AH', 'AD']\n",
      "['2S', '2C', '3S', '3C', '4S', '4C', '5S', '5C', '6S', '6C', '7S', '7C', '8S', '8C', '9S', '9C', 'TS', 'TC', 'JS', 'JC', 'QS', 'QC', 'KS', 'KC', 'AS', 'AC']\n"
     ]
    }
   ],
   "source": [
    "allranks = '23456789TJQKA'\n",
    "redcard = [r+s for r in allranks for s in 'HD']\n",
    "blackcard = [r+s for r in allranks for s in 'SC']\n",
    "print(redcard)\n",
    "print(blackcard)"
   ]
  },
  {
   "cell_type": "code",
   "execution_count": 194,
   "metadata": {},
   "outputs": [],
   "source": [
    "def replacement(hand):\n",
    "    if hand == '?B': return blackcard\n",
    "    elif hand == '?R': return redcard\n",
    "    else:return [hand]"
   ]
  },
  {
   "cell_type": "code",
   "execution_count": 195,
   "metadata": {},
   "outputs": [
    {
     "name": "stdout",
     "output_type": "stream",
     "text": [
      "['6C'] ['7C'] ['8C'] ['9C'] ['TC'] ['5C'] ['2S', '2C', '3S', '3C', '4S', '4C', '5S', '5C', '6S', '6C', '7S', '7C', '8S', '8C', '9S', '9C', 'TS', 'TC', 'JS', 'JC', 'QS', 'QC', 'KS', 'KC', 'AS', 'AC']\n",
      "{('6C', '7C', '8C', '9C', 'TC')}\n"
     ]
    }
   ],
   "source": [
    "print(*map(replacement,(\"6C 7C 8C 9C TC 5C ?B\".split())))\n",
    "print(set(best_hand(h) for h in itertools.product(*map(replacement,hand))))"
   ]
  },
  {
   "cell_type": "code",
   "execution_count": 196,
   "metadata": {},
   "outputs": [],
   "source": [
    "def best_wild_hand(hand):\n",
    "    hands = set(best_hand(h) for h in itertools.product(*map(replacement,hand)))\n",
    "#     print (hands)\n",
    "    return max(hands, key = hand_rank) #"
   ]
  },
  {
   "cell_type": "code",
   "execution_count": 162,
   "metadata": {},
   "outputs": [
    {
     "ename": "AssertionError",
     "evalue": "",
     "output_type": "error",
     "traceback": [
      "\u001b[0;31m---------------------------------------------------------------------------\u001b[0m",
      "\u001b[0;31mAssertionError\u001b[0m                            Traceback (most recent call last)",
      "\u001b[0;32m<ipython-input-162-55e951bf7737>\u001b[0m in \u001b[0;36m<module>\u001b[0;34m()\u001b[0m\n\u001b[1;32m      7\u001b[0m             == ['7C', '7D', '7H', '7S', 'JD'])\n\u001b[1;32m      8\u001b[0m     \u001b[0;32mreturn\u001b[0m \u001b[0;34m'test_best_wild_hand passes'\u001b[0m\u001b[0;34m\u001b[0m\u001b[0m\n\u001b[0;32m----> 9\u001b[0;31m \u001b[0mprint\u001b[0m\u001b[0;34m(\u001b[0m\u001b[0mtest_best_wild_hand\u001b[0m\u001b[0;34m(\u001b[0m\u001b[0;34m)\u001b[0m\u001b[0;34m)\u001b[0m\u001b[0;34m\u001b[0m\u001b[0m\n\u001b[0m",
      "\u001b[0;32m<ipython-input-162-55e951bf7737>\u001b[0m in \u001b[0;36mtest_best_wild_hand\u001b[0;34m()\u001b[0m\n\u001b[1;32m      3\u001b[0m             == ['7C', '8C', '9C', 'JC', 'TC'])\n\u001b[1;32m      4\u001b[0m     assert (sorted(best_wild_hand(\"TD TC 5H 5C 7C ?R ?B\".split()))\n\u001b[0;32m----> 5\u001b[0;31m             == ['7C', 'TC', 'TD', 'TH', 'TS'])\n\u001b[0m\u001b[1;32m      6\u001b[0m     assert (sorted(best_wild_hand(\"JD TC TH 7C 7D 7S 7H\".split()))\n\u001b[1;32m      7\u001b[0m             == ['7C', '7D', '7H', '7S', 'JD'])\n",
      "\u001b[0;31mAssertionError\u001b[0m: "
     ]
    }
   ],
   "source": [
    "def test_best_wild_hand():\n",
    "    assert (sorted(best_wild_hand(\"6C 7C 8C 9C TC 5C ?B\".split()))\n",
    "            == ['7C', '8C', '9C', 'JC', 'TC'])\n",
    "    assert (sorted(best_wild_hand(\"TD TC 5H 5C 7C ?R ?B\".split()))\n",
    "            == ['7C', 'TC', 'TD', 'TH', 'TS'])\n",
    "    assert (sorted(best_wild_hand(\"JD TC TH 7C 7D 7S 7H\".split()))\n",
    "            == ['7C', '7D', '7H', '7S', 'JD'])\n",
    "    return 'test_best_wild_hand passes'\n",
    "print(test_best_wild_hand())"
   ]
  },
  {
   "cell_type": "code",
   "execution_count": 200,
   "metadata": {},
   "outputs": [
    {
     "name": "stdout",
     "output_type": "stream",
     "text": [
      "['7C', 'TC', 'TC', 'TD', 'TH']\n"
     ]
    }
   ],
   "source": [
    "print(sorted(best_wild_hand(\"TD TC 5H 5C 7C ?R ?B\".split())))"
   ]
  },
  {
   "cell_type": "code",
   "execution_count": 133,
   "metadata": {},
   "outputs": [
    {
     "name": "stdout",
     "output_type": "stream",
     "text": [
      "['a', 'b']\n",
      "['a', 'b', 3]\n"
     ]
    }
   ],
   "source": [
    "a = ['a','b','c']\n",
    "a.remove('c')\n",
    "print(a)\n",
    "a.append(3)\n",
    "print(a)"
   ]
  },
  {
   "cell_type": "code",
   "execution_count": 167,
   "metadata": {},
   "outputs": [
    {
     "name": "stdout",
     "output_type": "stream",
     "text": [
      "{'TH', '7C', 'TD', 'TC'}\n"
     ]
    }
   ],
   "source": [
    "a = set(['7C', 'TC', 'TC', 'TD', 'TH'])\n",
    "print(a)"
   ]
  },
  {
   "cell_type": "code",
   "execution_count": null,
   "metadata": {},
   "outputs": [],
   "source": []
  }
 ],
 "metadata": {
  "kernelspec": {
   "display_name": "Python 3",
   "language": "python",
   "name": "python3"
  },
  "language_info": {
   "codemirror_mode": {
    "name": "ipython",
    "version": 3
   },
   "file_extension": ".py",
   "mimetype": "text/x-python",
   "name": "python",
   "nbconvert_exporter": "python",
   "pygments_lexer": "ipython3",
   "version": "3.6.5"
  }
 },
 "nbformat": 4,
 "nbformat_minor": 2
}
