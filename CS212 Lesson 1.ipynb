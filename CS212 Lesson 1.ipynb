{
 "cells": [
  {
   "cell_type": "code",
   "execution_count": 1,
   "metadata": {},
   "outputs": [],
   "source": [
    "# def card_ranks(hand):\n",
    "#     \"Return a list of the ranks, sorted with higher first.\"\n",
    "#     ranks = ['--23456789TJQKA'.index(r) for r, s in hand]\n",
    "#     ranks.sort(reverse = True)\n",
    "#     if ranks == [14,5,4,3,2]:\n",
    "#         ranks = [1,2,3,4,5]\n",
    "#     return ranks"
   ]
  },
  {
   "cell_type": "code",
   "execution_count": 8,
   "metadata": {},
   "outputs": [],
   "source": [
    "# def hand_rank(hand):\n",
    "#     \"Return a value indicating the ranking of a hand.\"\n",
    "#     ranks = card_ranks(hand) \n",
    "#     if straight(ranks) and flush(hand):\n",
    "#         return (8, max(ranks))\n",
    "#     elif kind(4, ranks):\n",
    "#         return (7, kind(4, ranks), kind(1, ranks))\n",
    "#     elif kind(3, ranks) and kind(2, ranks):\n",
    "#         return (6, kind(3, ranks), kind(2, ranks))\n",
    "#     elif flush(hand):\n",
    "#         return (5, ranks)\n",
    "#     elif straight(ranks):\n",
    "#         return (4, max(ranks))\n",
    "#     elif kind(3, ranks):\n",
    "#         return (3, kind(3, ranks), ranks)\n",
    "#     elif two_pair(ranks):\n",
    "#         return (2, two_pair(ranks), ranks)\n",
    "#     elif kind(2, ranks):\n",
    "#         return (1, kind(2, ranks), ranks)\n",
    "#     else:\n",
    "#         return (0, ranks)"
   ]
  },
  {
   "cell_type": "code",
   "execution_count": 56,
   "metadata": {},
   "outputs": [],
   "source": [
    "def hand_rank(hand):\n",
    "    \"Return a value indicating the ranking of a hand.\"\n",
    "    groups = group(['--23456789TJQKA'.index(r) for r, s in hand])\n",
    "    counts, ranks = unzip(groups)\n",
    "    if ranks == (14,5,4,3,2):\n",
    "        ranks = (1,2,3,4,5)\n",
    "    straight = (max(ranks)-min(ranks) == 4) and len(set(ranks)) == 5\n",
    "    flush = len(set([s for r,s in hand])) ==1\n",
    "    return (9 if (5,)== counts else\n",
    "           8 if straight and flush else\n",
    "           7 if (4,1) == counts else\n",
    "           6 if (3,2) == counts else\n",
    "           5 if flush else\n",
    "           4 if straight else\n",
    "           3 if (3,1,1) == counts else\n",
    "           2 if (2,2,1) == counts else\n",
    "           1 if (2,1,1,1)== counts else\n",
    "           0), ranks"
   ]
  },
  {
   "cell_type": "code",
   "execution_count": 67,
   "metadata": {},
   "outputs": [],
   "source": [
    "def group(items):\n",
    "    groups = [(items.count(x),x) for x in set(items)]\n",
    "    return sorted(groups, reverse = True)"
   ]
  },
  {
   "cell_type": "code",
   "execution_count": 58,
   "metadata": {},
   "outputs": [],
   "source": [
    "def unzip(pairs): return zip(*pairs)"
   ]
  },
  {
   "cell_type": "code",
   "execution_count": 59,
   "metadata": {},
   "outputs": [],
   "source": [
    "def poker(hands):\n",
    "    \"Return a list of winning hands: poker([hand,...]) => [hand,...]\"\n",
    "    return allmax(hands, key=hand_rank)"
   ]
  },
  {
   "cell_type": "code",
   "execution_count": 60,
   "metadata": {},
   "outputs": [],
   "source": [
    "def allmax(iterable, key=None):\n",
    "    \"Return a list of all items equal to the max of the iterable.\"\n",
    "    # Your code here.\n",
    "    # return i if (i == max(iterable)) for i in iterable\n",
    "    output, maxval = [], 0\n",
    "    key = key or (lambda x: x)\n",
    "    for i in iterable:\n",
    "        val = key(i)\n",
    "        if output==[] or val>maxval:\n",
    "            maxval = val\n",
    "            output.append(i)\n",
    "        elif  val == maxval:\n",
    "            output.append(i)\n",
    "            print (output)\n",
    "    return output"
   ]
  },
  {
   "cell_type": "code",
   "execution_count": 61,
   "metadata": {},
   "outputs": [],
   "source": [
    "def straight(ranks):\n",
    "    \"Return True if the ordered ranks form a 5-card straight.\"\n",
    "    return (max(ranks)-min(ranks) == 4) and len(set(ranks)) == 5"
   ]
  },
  {
   "cell_type": "code",
   "execution_count": 62,
   "metadata": {},
   "outputs": [],
   "source": [
    "def flush(hand):\n",
    "    \"Return True if all the cards have the same suit.\"\n",
    "    # Your code here.\n",
    "    flush = [s for r,s in hand]\n",
    "    return len(set(flush)) ==1"
   ]
  },
  {
   "cell_type": "code",
   "execution_count": 63,
   "metadata": {},
   "outputs": [],
   "source": [
    "def kind(n,ranks):\n",
    "    \"\"\"Return the first rank that this hand has exactly n of.\n",
    "    Return None if there is no n-of-a-kind in the hand.\"\"\"\n",
    "    for r in ranks:\n",
    "        if ranks.count(r)==n : return r\n",
    "    return None"
   ]
  },
  {
   "cell_type": "code",
   "execution_count": 64,
   "metadata": {},
   "outputs": [],
   "source": [
    "def two_pair(ranks):\n",
    "    \"\"\"If there are two pair, return the two ranks as a\n",
    "    tuple: (highest, lowest); otherwise return None.\"\"\"\n",
    "    # Your code here.\n",
    "    for i in ranks:\n",
    "        for q in ranks:\n",
    "            if q != i and ranks.count(i) ==2 and ranks.count(q) ==2: return (max(i,q),min(i,q))\n",
    "    return None"
   ]
  },
  {
   "cell_type": "code",
   "execution_count": 70,
   "metadata": {},
   "outputs": [],
   "source": [
    "import random # this will be a useful library for shuffling\n",
    "\n",
    "# This builds a deck of 52 cards. If you are unfamiliar\n",
    "# with this notation, check out Andy's supplemental video\n",
    "# on list comprehensions (you can find the link in the \n",
    "# Instructor Comments box below).\n",
    "\n",
    "mydeck = [r+s for r in '23456789TJQKA' for s in 'SHDC'] \n",
    "# print mydeck\n",
    "# hands = random.sample(mydeck, k=5)\n",
    "# print hands\n",
    "def deal(numhands, n=5, deck=mydeck):\n",
    "    random.shuffle(deck)\n",
    "    return[deck[n*i : n*(i+1)] for i in range(numhands)]\n",
    "# print(deal(2,7))\n",
    "#     # Your code here.\n",
    "#     output = []\n",
    "#     for i in range(1,numhands+1):\n",
    "#         hands = random.sample(deck, k=n)\n",
    "#         # print hands\n",
    "#         output.append(hands)\n",
    "#         # print output\n",
    "#     return output\n"
   ]
  },
  {
   "cell_type": "code",
   "execution_count": 71,
   "metadata": {},
   "outputs": [
    {
     "name": "stdout",
     "output_type": "stream",
     "text": [
      "[['KD', 'JD', '4S', '8C', '8D'], ['QS', 'JC', 'JS', 'TC', '9S']]\n"
     ]
    }
   ],
   "source": [
    "print(poker(deal(10)))"
   ]
  },
  {
   "cell_type": "code",
   "execution_count": 50,
   "metadata": {},
   "outputs": [],
   "source": [
    "def hand_percentages(n=700*1000):\n",
    "    counts = [0] *9\n",
    "    for i in range(0,int(n/10)):\n",
    "        for hand in deal(10):\n",
    "            ranking = hand_rank(hand)[0]\n",
    "            counts[ranking]+=1\n",
    "    for i in reversed(range(9)):\n",
    "        print (hand_names[i],100.*counts[i]/n) #Error?"
   ]
  },
  {
   "cell_type": "code",
   "execution_count": 51,
   "metadata": {},
   "outputs": [],
   "source": [
    "hand_names = ['Nothing','1 pair','2 pairs','3 of a kind','Straight','Flush','full house','4 of a kind','Straight Flush']"
   ]
  },
  {
   "cell_type": "code",
   "execution_count": 53,
   "metadata": {},
   "outputs": [
    {
     "name": "stdout",
     "output_type": "stream",
     "text": [
      "Straight Flush 0.0\n",
      "4 of a kind 0.04\n",
      "full house 0.11\n",
      "Flush 0.21\n",
      "Straight 0.37\n",
      "3 of a kind 1.76\n",
      "2 pairs 4.7\n",
      "1 pair 42.32\n",
      "Nothing 50.49\n",
      "None\n"
     ]
    }
   ],
   "source": [
    "print(hand_percentages(10000))"
   ]
  },
  {
   "cell_type": "code",
   "execution_count": 85,
   "metadata": {},
   "outputs": [
    {
     "name": "stdout",
     "output_type": "stream",
     "text": [
      "tests pass\n"
     ]
    }
   ],
   "source": [
    "def test():\n",
    "    \"Test cases for the functions in poker program.\"\n",
    "    sf = \"6C 7C 8C 9C TC\".split() # Straight Flush\n",
    "    fk = \"9D 9H 9S 9C 7D\".split() # Four of a Kind\n",
    "    fh = \"TD TC TH 7C 7D\".split() # Full House\n",
    "    tp = \"5S 5D 9H 9C 6S\".split() # Two pairs\n",
    "    fkranks = card_ranks(fk)\n",
    "    tpranks = card_ranks(tp)\n",
    "    assert kind(4, fkranks) == 9\n",
    "    assert kind(3, fkranks) == None\n",
    "    assert kind(2, fkranks) == None\n",
    "    assert kind(1, fkranks) == 7\n",
    "#     assert hand_rank(fh) ==(6,)\n",
    "    return 'tests pass'\n",
    "print(test())\n",
    "# print(hand_rank(fkranks))"
   ]
  },
  {
   "cell_type": "code",
   "execution_count": 82,
   "metadata": {},
   "outputs": [
    {
     "name": "stdout",
     "output_type": "stream",
     "text": [
      "(6, (10, 7))\n"
     ]
    }
   ],
   "source": [
    "sf = \"6C 7C 8C 9C TC\".split() # Straight Flush\n",
    "fk = \"9D 9H 9S 9C 7D\".split() # Four of a Kind\n",
    "fh = \"TD TC TH 7C 7D\".split() # Full House\n",
    "tp = \"5S 5D 9H 9C 6S\".split() # Two pairs\n",
    "fkranks = card_ranks(fk)\n",
    "tpranks = card_ranks(tp)\n",
    "print (hand_rank(fh))"
   ]
  },
  {
   "cell_type": "code",
   "execution_count": null,
   "metadata": {},
   "outputs": [],
   "source": []
  }
 ],
 "metadata": {
  "kernelspec": {
   "display_name": "Python 3",
   "language": "python",
   "name": "python3"
  },
  "language_info": {
   "codemirror_mode": {
    "name": "ipython",
    "version": 3
   },
   "file_extension": ".py",
   "mimetype": "text/x-python",
   "name": "python",
   "nbconvert_exporter": "python",
   "pygments_lexer": "ipython3",
   "version": "3.6.5"
  }
 },
 "nbformat": 4,
 "nbformat_minor": 2
}
