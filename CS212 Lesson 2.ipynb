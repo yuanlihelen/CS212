{
 "cells": [
  {
   "cell_type": "code",
   "execution_count": 19,
   "metadata": {},
   "outputs": [],
   "source": [
    "# ----------------\n",
    "# User Instructions\n",
    "#\n",
    "# Modify the timedcalls(n, fn, *args) function so that it calls \n",
    "# fn(*args) repeatedly. It should call fn n times if n is an integer\n",
    "# and up to n seconds if n is a floating point number.\n",
    "\n",
    "import itertools\n",
    "\n",
    "def imright(h1, h2):\n",
    "    \"House h1 is immediately right of h2 if h1-h2 == 1.\"\n",
    "    return h1-h2 == 1\n",
    "\n",
    "def nextto(h1, h2):\n",
    "    \"Two houses are next to each other if they differ by 1.\"\n",
    "    return abs(h1-h2) == 1\n",
    "\n",
    "def zebra_puzzle():\n",
    "    \"Return a tuple (WATER, ZEBRA indicating their house numbers.\"\n",
    "    houses = first, _, middle, _, _ = [1, 2, 3, 4, 5]\n",
    "    orderings = list(itertools.permutations(houses)) # 1\n",
    "    return next((WATER, ZEBRA)\n",
    "                for (red, green, ivory, yellow, blue) in orderings\n",
    "                if imright(green, ivory)\n",
    "                for (Englishman, Spaniard, Ukranian, Japanese, Norwegian) in orderings\n",
    "                if Englishman is red\n",
    "                if Norwegian is first\n",
    "                if nextto(Norwegian, blue)\n",
    "                for (coffee, tea, milk, oj, WATER) in orderings\n",
    "                if coffee is green\n",
    "                if Ukranian is tea\n",
    "                if milk is middle\n",
    "                for (OldGold, Kools, Chesterfields, LuckyStrike, Parliaments) in orderings\n",
    "                if Kools is yellow\n",
    "                if LuckyStrike is oj\n",
    "                if Japanese is Parliaments\n",
    "                for (dog, snails, fox, horse, ZEBRA) in orderings\n",
    "                if Spaniard is dog\n",
    "                if OldGold is snails\n",
    "                if nextto(Chesterfields, fox)\n",
    "                if nextto(Kools, horse)\n",
    "                )\n",
    "\n",
    "import time\n",
    "\n",
    "def timedcall(fn, *args):\n",
    "    \"Call function with args; return the time in seconds and result.\"\n",
    "    t0 = time.clock()\n",
    "    result = fn(*args)\n",
    "    t1 = time.clock()\n",
    "    return t1-t0, result\n",
    "\n",
    "def average(numbers):\n",
    "    \"Return the average (arithmetic mean) of a sequence of numbers.\"\n",
    "    return sum(numbers) / float(len(numbers)) \n",
    "\n",
    "# def timedcalls(n, fn, *args):\n",
    "#     \"\"\"Call fn(*args) repeatedly: n times if n is an int, or up to\n",
    "#     n seconds if n is a float; return the min, avg, and max time\"\"\"\n",
    "#     # Your code here.\n",
    "#     if isinstance(n,int):\n",
    "#         times = [timedcall(fn, *args)[0] for _ in range(n)]\n",
    "#     else:\n",
    "#         times = [timedcall(fn, *args)[0] for _ in range(round(int(n),0))]\n",
    "#     return min(times), average(times), max(times)\n",
    "\n"
   ]
  },
  {
   "cell_type": "code",
   "execution_count": 133,
   "metadata": {},
   "outputs": [
    {
     "name": "stdout",
     "output_type": "stream",
     "text": [
      "(0.00010499999996227416, 0.00011283683877933328, 0.0006940000000099644)\n"
     ]
    }
   ],
   "source": [
    "def timedcalls(n, fn, *args):\n",
    "    \"\"\"Call fn(*args) repeatedly: n times if n is an int, or up to\n",
    "    n seconds if n is a float; return the min, avg, and max time\"\"\"\n",
    "    # Your code here.\n",
    "    if isinstance(n,int):\n",
    "        times = [timedcall(fn, *args)[0] for _ in range(n)]\n",
    "    else:\n",
    "        times = []\n",
    "        while sum(times)<n:\n",
    "            times.append(timedcall(fn, *args)[0])\n",
    "#         print (times)\n",
    "    return min(times), average(times), max(times)\n",
    "\n",
    "print (timedcalls(2.5,zebra_puzzle))"
   ]
  },
  {
   "cell_type": "code",
   "execution_count": 102,
   "metadata": {},
   "outputs": [],
   "source": [
    "def ints(start, end = None):\n",
    "    i = start\n",
    "#     end = int(end)\n",
    "    while end is None:\n",
    "        yield i\n",
    "        i = i + 1\n",
    "    while i <= end:\n",
    "        yield i\n",
    "        i = i + 1\n"
   ]
  },
  {
   "cell_type": "code",
   "execution_count": 103,
   "metadata": {},
   "outputs": [
    {
     "name": "stdout",
     "output_type": "stream",
     "text": [
      "0\n",
      "1\n",
      "2\n",
      "3\n",
      "4\n",
      "5\n",
      "6\n"
     ]
    }
   ],
   "source": [
    "a = ints(0)\n",
    "print(next(a))\n",
    "print(next(a))\n",
    "print(next(a))\n",
    "print(next(a))\n",
    "print(next(a))\n",
    "print(next(a))\n",
    "print(next(a))"
   ]
  },
  {
   "cell_type": "code",
   "execution_count": 104,
   "metadata": {},
   "outputs": [],
   "source": [
    "def all_ints(start,end = None):\n",
    "    \"Generate integers in the order 0, +1, -1, +2, -2, +3, -3, ...\"\n",
    "    # Your code here.\n",
    "    yield 0\n",
    "    for i in ints(1,100):\n",
    "        yield +i\n",
    "        yield -i"
   ]
  },
  {
   "cell_type": "code",
   "execution_count": 177,
   "metadata": {},
   "outputs": [
    {
     "name": "stdout",
     "output_type": "stream",
     "text": [
      "0\n",
      "1\n",
      "-1\n",
      "2\n",
      "-2\n",
      "3\n"
     ]
    }
   ],
   "source": [
    "a = all_ints(0)\n",
    "def solve(formula):\n",
    "    \"\"\"Given a formula like 'ODD + ODD == EVEN', fill in digits to solve it.\n",
    "    Input formula is a string; output is a digit-filled-in string or None.\"\"\"\n",
    "    # Your code here\n",
    "#     return [i for i in fill_in(formula) if valid(i)]     ##为什么不对？？？？\n",
    "    for i in all_ints(formula):\n",
    "            return (i)\n",
    "print(next(a))\n",
    "print(next(a))\n",
    "print(next(a))\n",
    "print(next(a))\n",
    "print(next(a))\n",
    "print(next(a))"
   ]
  },
  {
   "cell_type": "code",
   "execution_count": 130,
   "metadata": {},
   "outputs": [],
   "source": [
    "import string, re\n",
    "\n",
    "def valid(f):\n",
    "    \"Formula f is valid iff it has no numbers with leading zero and evals true.\"\n",
    "    try:\n",
    "        return not re.search(r'\\b0[0-9]',f) and eval(f) #Search regular expression, \\b boundery start with 0 followed by [0-9]\n",
    "        ## your code here\n",
    "    except ZeroDivisionError:\n",
    "        ## your code here\n",
    "        return False"
   ]
  },
  {
   "cell_type": "code",
   "execution_count": 132,
   "metadata": {},
   "outputs": [
    {
     "name": "stdout",
     "output_type": "stream",
     "text": [
      "False\n"
     ]
    }
   ],
   "source": [
    "f = '1+2==03'\n",
    "print(valid(f))"
   ]
  },
  {
   "cell_type": "code",
   "execution_count": 173,
   "metadata": {},
   "outputs": [],
   "source": [
    "import string, re , itertools\n",
    "\n",
    "def solve(formula):\n",
    "    \"\"\"Given a formula like 'ODD + ODD == EVEN', fill in digits to solve it.\n",
    "    Input formula is a string; output is a digit-filled-in string or None.\"\"\"\n",
    "    # Your code here\n",
    "#     return [i for i in fill_in(formula) if valid(i)]     ##为什么不对？？？？\n",
    "    for i in fill_in(formula):\n",
    "        if valid(i):\n",
    "            return i\n",
    "        \n",
    "def fill_in(formula):\n",
    "    \"Generate all possible fillings-in of letters in formula with digits.\"\n",
    "    letters = ''.join(set(re.findall('[A-Z]',formula))) #should be a string\n",
    "    for digits in itertools.permutations('1234567890', len(letters)):\n",
    "        table = string.maketrans(letters, ''.join(digits))            #String.maketrans 已经没有了\n",
    "        yield formula.translate(table)\n",
    "    \n",
    "def valid(f):\n",
    "    \"\"\"Formula f is valid if and only if it has no \n",
    "    numbers with leading zero, and evals true.\"\"\"\n",
    "    try: \n",
    "        return not re.search(r'\\b0[0-9]', f) and eval(f) is True\n",
    "    except ArithmeticError:\n",
    "        return False"
   ]
  },
  {
   "cell_type": "code",
   "execution_count": 174,
   "metadata": {},
   "outputs": [
    {
     "ename": "AttributeError",
     "evalue": "module 'string' has no attribute 'maketrans'",
     "output_type": "error",
     "traceback": [
      "\u001b[0;31m---------------------------------------------------------------------------\u001b[0m",
      "\u001b[0;31mAttributeError\u001b[0m                            Traceback (most recent call last)",
      "\u001b[0;32m<ipython-input-174-edf52b9c8605>\u001b[0m in \u001b[0;36m<module>\u001b[0;34m()\u001b[0m\n\u001b[0;32m----> 1\u001b[0;31m \u001b[0mprint\u001b[0m\u001b[0;34m(\u001b[0m\u001b[0msolve\u001b[0m\u001b[0;34m(\u001b[0m\u001b[0;34m'ODD + ODD == EVEN'\u001b[0m\u001b[0;34m)\u001b[0m\u001b[0;34m)\u001b[0m\u001b[0;34m\u001b[0m\u001b[0m\n\u001b[0m",
      "\u001b[0;32m<ipython-input-173-4b1be7c593fa>\u001b[0m in \u001b[0;36msolve\u001b[0;34m(formula)\u001b[0m\n\u001b[1;32m      6\u001b[0m     \u001b[0;31m# Your code here\u001b[0m\u001b[0;34m\u001b[0m\u001b[0;34m\u001b[0m\u001b[0m\n\u001b[1;32m      7\u001b[0m \u001b[0;31m#     return [i for i in fill_in(formula) if valid(i)]     ##为什么不对？？？？\u001b[0m\u001b[0;34m\u001b[0m\u001b[0;34m\u001b[0m\u001b[0m\n\u001b[0;32m----> 8\u001b[0;31m     \u001b[0;32mfor\u001b[0m \u001b[0mi\u001b[0m \u001b[0;32min\u001b[0m \u001b[0mfill_in\u001b[0m\u001b[0;34m(\u001b[0m\u001b[0mformula\u001b[0m\u001b[0;34m)\u001b[0m\u001b[0;34m:\u001b[0m\u001b[0;34m\u001b[0m\u001b[0m\n\u001b[0m\u001b[1;32m      9\u001b[0m         \u001b[0;32mif\u001b[0m \u001b[0mvalid\u001b[0m\u001b[0;34m(\u001b[0m\u001b[0mi\u001b[0m\u001b[0;34m)\u001b[0m\u001b[0;34m:\u001b[0m\u001b[0;34m\u001b[0m\u001b[0m\n\u001b[1;32m     10\u001b[0m             \u001b[0;32mreturn\u001b[0m \u001b[0mi\u001b[0m\u001b[0;34m\u001b[0m\u001b[0m\n",
      "\u001b[0;32m<ipython-input-173-4b1be7c593fa>\u001b[0m in \u001b[0;36mfill_in\u001b[0;34m(formula)\u001b[0m\n\u001b[1;32m     14\u001b[0m     \u001b[0mletters\u001b[0m \u001b[0;34m=\u001b[0m \u001b[0;34m''\u001b[0m\u001b[0;34m.\u001b[0m\u001b[0mjoin\u001b[0m\u001b[0;34m(\u001b[0m\u001b[0mset\u001b[0m\u001b[0;34m(\u001b[0m\u001b[0mre\u001b[0m\u001b[0;34m.\u001b[0m\u001b[0mfindall\u001b[0m\u001b[0;34m(\u001b[0m\u001b[0;34m'[A-Z]'\u001b[0m\u001b[0;34m,\u001b[0m\u001b[0mformula\u001b[0m\u001b[0;34m)\u001b[0m\u001b[0;34m)\u001b[0m\u001b[0;34m)\u001b[0m \u001b[0;31m#should be a string\u001b[0m\u001b[0;34m\u001b[0m\u001b[0m\n\u001b[1;32m     15\u001b[0m     \u001b[0;32mfor\u001b[0m \u001b[0mdigits\u001b[0m \u001b[0;32min\u001b[0m \u001b[0mitertools\u001b[0m\u001b[0;34m.\u001b[0m\u001b[0mpermutations\u001b[0m\u001b[0;34m(\u001b[0m\u001b[0;34m'1234567890'\u001b[0m\u001b[0;34m,\u001b[0m \u001b[0mlen\u001b[0m\u001b[0;34m(\u001b[0m\u001b[0mletters\u001b[0m\u001b[0;34m)\u001b[0m\u001b[0;34m)\u001b[0m\u001b[0;34m:\u001b[0m\u001b[0;34m\u001b[0m\u001b[0m\n\u001b[0;32m---> 16\u001b[0;31m         \u001b[0mtable\u001b[0m \u001b[0;34m=\u001b[0m \u001b[0mstring\u001b[0m\u001b[0;34m.\u001b[0m\u001b[0mmaketrans\u001b[0m\u001b[0;34m(\u001b[0m\u001b[0mletters\u001b[0m\u001b[0;34m,\u001b[0m \u001b[0;34m''\u001b[0m\u001b[0;34m.\u001b[0m\u001b[0mjoin\u001b[0m\u001b[0;34m(\u001b[0m\u001b[0mdigits\u001b[0m\u001b[0;34m)\u001b[0m\u001b[0;34m)\u001b[0m            \u001b[0;31m#String.maketrans 已经没有了\u001b[0m\u001b[0;34m\u001b[0m\u001b[0m\n\u001b[0m\u001b[1;32m     17\u001b[0m         \u001b[0;32myield\u001b[0m \u001b[0mformula\u001b[0m\u001b[0;34m.\u001b[0m\u001b[0mtranslate\u001b[0m\u001b[0;34m(\u001b[0m\u001b[0mtable\u001b[0m\u001b[0;34m)\u001b[0m\u001b[0;34m\u001b[0m\u001b[0m\n\u001b[1;32m     18\u001b[0m \u001b[0;34m\u001b[0m\u001b[0m\n",
      "\u001b[0;31mAttributeError\u001b[0m: module 'string' has no attribute 'maketrans'"
     ]
    }
   ],
   "source": [
    "print(solve('ODD + ODD == EVEN'))"
   ]
  },
  {
   "cell_type": "code",
   "execution_count": 200,
   "metadata": {},
   "outputs": [],
   "source": [
    "# --------------\n",
    "# User Instructions\n",
    "#\n",
    "# Write a function, compile_word(word), that compiles a word\n",
    "# of UPPERCASE letters as numeric digits. For example:\n",
    "# compile_word('YOU') => '(1*U + 10*O +100*Y)' \n",
    "# Non-uppercase words should remain unchaged.\n",
    "\n",
    "def compile_word(word):\n",
    "    \"\"\"Compile a word of uppercase letters as numeric digits.\n",
    "    E.g., compile_word('YOU') => '(1*U+10*O+100*Y)'\n",
    "    Non-uppercase words unchanged: compile_word('+') => '+'\"\"\"\n",
    "    # Your code here.\n",
    "    terms = ['%s*%s' % (10**i,word[len(word)-1-i]) for i in range(len(word))]\n",
    "    return '+'.join(terms)"
   ]
  },
  {
   "cell_type": "code",
   "execution_count": 201,
   "metadata": {},
   "outputs": [
    {
     "name": "stdout",
     "output_type": "stream",
     "text": [
      "1*E+10*V+100*O+1000*L\n"
     ]
    }
   ],
   "source": [
    "print(compile_word('LOVE'))"
   ]
  },
  {
   "cell_type": "code",
   "execution_count": 223,
   "metadata": {},
   "outputs": [
    {
     "name": "stdout",
     "output_type": "stream",
     "text": [
      "[3, 2, 4, 5, 1]\n"
     ]
    }
   ],
   "source": [
    "\"Homework 2-2\"\n",
    "#------------------\n",
    "# User Instructions\n",
    "#\n",
    "# Hopper, Kay, Liskov, Perlis, and Ritchie live on \n",
    "# different floors of a five-floor apartment building. \n",
    "#\n",
    "# Hopper does not live on the top floor. \n",
    "# Kay does not live on the bottom floor. \n",
    "# Liskov does not live on either the top or the bottom floor. \n",
    "# Perlis lives on a higher floor than does Kay. \n",
    "# Ritchie does not live on a floor adjacent to Liskov's. \n",
    "# Liskov does not live on a floor adjacent to Kay's. \n",
    "# \n",
    "# Where does everyone live?  \n",
    "# \n",
    "# Write a function floor_puzzle() that returns a list of\n",
    "# five floor numbers denoting the floor of Hopper, Kay, \n",
    "# Liskov, Perlis, and Ritchie.\n",
    "\n",
    "import itertools\n",
    "\n",
    "def floor_puzzle():\n",
    "    # Your code here\n",
    "    floors = [bottom, _, _, _, top] = [1,2,3,4,5]\n",
    "    orders = list(itertools.permutations(floors,5))\n",
    "#     print(orders)\n",
    "    return ([Hopper, Kay, Liskov, Perlis, Ritchie]\n",
    "                for (Hopper, Kay, Liskov, Perlis, Ritchie) in orders\n",
    "                if Hopper is not top\n",
    "                if Kay is not bottom\n",
    "                if Liskov is not top\n",
    "                if Liskov is not bottom\n",
    "                if Perlis > Kay\n",
    "                if abs(Ritchie - Liskov)>1\n",
    "                if abs(Kay - Liskov)>1)\n",
    "print(next(floor_puzzle()))"
   ]
  },
  {
   "cell_type": "code",
   "execution_count": 337,
   "metadata": {},
   "outputs": [
    {
     "name": "stdout",
     "output_type": "stream",
     "text": [
      "tests pass\n"
     ]
    }
   ],
   "source": [
    "\"Homework 2-3\"\n",
    "# --------------\n",
    "# User Instructions\n",
    "#\n",
    "# Write a function, longest_subpalindrome_slice(text) that takes \n",
    "# a string as input and returns the i and j indices that \n",
    "# correspond to the beginning and end indices of the longest \n",
    "# palindrome in the string. \n",
    "#\n",
    "# Grading Notes:\n",
    "# \n",
    "# You will only be marked correct if your function runs \n",
    "# efficiently enough. We will be measuring efficency by counting\n",
    "# the number of times you access each string. That count must be\n",
    "# below a certain threshold to be marked correct.\n",
    "#\n",
    "# Please do not use regular expressions to solve this quiz!\n",
    "\n",
    "# def longest_subpalindrome_slice(text):\n",
    "#     \"Return (i, j) such that text[i:j] is the longest palindrome in text.\"\n",
    "#     # Your code here\n",
    "#     finali = 0\n",
    "#     finalj = 0\n",
    "#     captext = text.upper()\n",
    "#     if captext == '': return (0,0)\n",
    "#     else:\n",
    "#         for i in range(len(captext)):\n",
    "#             for j in range(len(captext)):\n",
    "#                 if captext[i:j+1] == captext[i:j+1][::-1] and abs(finali-finalj) < abs(i-j):\n",
    "#                     finali = i\n",
    "#                     finalj = j\n",
    "#         return (finali,finalj+1)\n",
    "def longest_subpalindrome_slice(text):\n",
    "    \"Return (i, j) such that text[i:j] is the longest palindrome in text.\"\n",
    "#     Your code here\n",
    "    if text == '': return (0,0)\n",
    "    def length(slice): a,b = slice; return b-a\n",
    "    candidate = [grow(text, start, end)\n",
    "                for start in range(len(text))\n",
    "                for end in (start, start+1)]\n",
    "#     print(candidate)\n",
    "    return max(candidate,key = length)\n",
    "\n",
    "def grow(text, start, end):\n",
    "    while (start>0 and end < len(text)) and text[start-1].upper() == text[end].upper():\n",
    "        start-=1; end+=1\n",
    "    return start, end\n",
    "    \n",
    "def test():\n",
    "    L = longest_subpalindrome_slice\n",
    "    assert L('racecar') == (0, 7)\n",
    "    assert L('Racecar') == (0, 7)\n",
    "    assert L('RacecarX') == (0, 7)\n",
    "    assert L('Race carr') == (7, 9)\n",
    "    assert L('') == (0, 0)\n",
    "    assert L('something rac e car going') == (8,21)\n",
    "    assert L('xxxxx') == (0, 5)\n",
    "    assert L('Mad am I ma dam.') == (0, 15)\n",
    "    return 'tests pass'\n",
    "\n",
    "print(test())"
   ]
  },
  {
   "cell_type": "code",
   "execution_count": 339,
   "metadata": {},
   "outputs": [
    {
     "name": "stdout",
     "output_type": "stream",
     "text": [
      "(0, 5)\n"
     ]
    }
   ],
   "source": [
    "\"My solution: too long and too much time\"\n",
    "\n",
    "def longest_subpalindrome_slice(text):\n",
    "    \"Return (i, j) such that text[i:j] is the longest palindrome in text.\"\n",
    "    # Your code here\n",
    "    finali = 0\n",
    "    finalj = 0\n",
    "    captext = text.upper()\n",
    "    if captext == '': \n",
    "        return (0,0)\n",
    "    else:\n",
    "        for i in range(len(captext)):\n",
    "            for j in range(len(captext)):\n",
    "                a =  captext[i:j+1]\n",
    "                if a == a[::-1] and abs(finali-finalj) < abs(i-j) and i<j:\n",
    "                    finali = i\n",
    "                    finalj = j\n",
    "        return (finali,finalj+1)\n",
    "print(longest_subpalindrome_slice('xxxxx'))"
   ]
  },
  {
   "cell_type": "code",
   "execution_count": null,
   "metadata": {},
   "outputs": [],
   "source": []
  }
 ],
 "metadata": {
  "kernelspec": {
   "display_name": "Python 3",
   "language": "python",
   "name": "python3"
  },
  "language_info": {
   "codemirror_mode": {
    "name": "ipython",
    "version": 3
   },
   "file_extension": ".py",
   "mimetype": "text/x-python",
   "name": "python",
   "nbconvert_exporter": "python",
   "pygments_lexer": "ipython3",
   "version": "3.6.5"
  }
 },
 "nbformat": 4,
 "nbformat_minor": 2
}
